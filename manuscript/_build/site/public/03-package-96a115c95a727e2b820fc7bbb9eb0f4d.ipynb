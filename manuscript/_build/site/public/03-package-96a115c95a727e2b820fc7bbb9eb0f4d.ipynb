{
 "cells": [
  {
   "cell_type": "markdown",
   "id": "bfc80da8",
   "metadata": {},
   "source": [
    "# Python Package\n",
    "\n",
    "## Quick Start Guide"
   ]
  },
  {
   "cell_type": "code",
   "execution_count": 3,
   "id": "initial_id",
   "metadata": {
    "ExecuteTime": {
     "end_time": "2023-10-02T12:29:32.433655624Z",
     "start_time": "2023-10-02T12:29:32.391389365Z"
    },
    "collapsed": true
   },
   "outputs": [
    {
     "ename": "ModuleNotFoundError",
     "evalue": "No module named 'adaptivesplit.sklearn_interface'",
     "output_type": "error",
     "traceback": [
      "\u001b[0;31m---------------------------------------------------------------------------\u001b[0m",
      "\u001b[0;31mModuleNotFoundError\u001b[0m                       Traceback (most recent call last)",
      "\u001b[1;32m/Users/tspisak/Dropbox/src/adaptivesplit/manuscript/03-package.ipynb Cell 2\u001b[0m line \u001b[0;36m5\n\u001b[1;32m      <a href='vscode-notebook-cell:/Users/tspisak/Dropbox/src/adaptivesplit/manuscript/03-package.ipynb#W1sZmlsZQ%3D%3D?line=2'>3</a>\u001b[0m \u001b[39mimport\u001b[39;00m \u001b[39mmatplotlib\u001b[39;00m\u001b[39m.\u001b[39;00m\u001b[39mpyplot\u001b[39;00m \u001b[39mas\u001b[39;00m \u001b[39mplt\u001b[39;00m\n\u001b[1;32m      <a href='vscode-notebook-cell:/Users/tspisak/Dropbox/src/adaptivesplit/manuscript/03-package.ipynb#W1sZmlsZQ%3D%3D?line=3'>4</a>\u001b[0m \u001b[39mfrom\u001b[39;00m \u001b[39msklearn\u001b[39;00m\u001b[39m.\u001b[39;00m\u001b[39mmodel_selection\u001b[39;00m \u001b[39mimport\u001b[39;00m train_test_split\n\u001b[0;32m----> <a href='vscode-notebook-cell:/Users/tspisak/Dropbox/src/adaptivesplit/manuscript/03-package.ipynb#W1sZmlsZQ%3D%3D?line=4'>5</a>\u001b[0m \u001b[39mimport\u001b[39;00m \u001b[39madaptivesplit\u001b[39;00m\u001b[39m.\u001b[39;00m\u001b[39msklearn_interface\u001b[39;00m \u001b[39mas\u001b[39;00m \u001b[39masi\u001b[39;00m\n",
      "\u001b[0;31mModuleNotFoundError\u001b[0m: No module named 'adaptivesplit.sklearn_interface'"
     ]
    }
   ],
   "source": [
    "from sklearn import datasets\n",
    "import pandas as pd\n",
    "import matplotlib.pyplot as plt\n",
    "from sklearn.model_selection import train_test_split\n",
    "import adaptivesplit.sklearn_interface as asi"
   ]
  },
  {
   "cell_type": "code",
   "execution_count": 2,
   "id": "5465b11e",
   "metadata": {},
   "outputs": [],
   "source": [
    "import sys\n",
    "sys.path = ['/Users/tspisak/Dropbox/src/adaptivesplit/manuscript',\n",
    " '/Users/tspisak/Dropbox/src/adaptivesplit/manuscript',\n",
    " '/usr/local/Cellar/python@3.9/3.9.6/Frameworks/Python.framework/Versions/3.9/lib/python39.zip',\n",
    " '/usr/local/Cellar/python@3.9/3.9.6/Frameworks/Python.framework/Versions/3.9/lib/python3.9',\n",
    " '/usr/local/Cellar/python@3.9/3.9.6/Frameworks/Python.framework/Versions/3.9/lib/python3.9/lib-dynload',\n",
    " '/Users/tspisak/Dropbox/src/adaptivesplit/venv/lib/python3.9/site-packages',\n",
    " '..']"
   ]
  },
  {
   "cell_type": "code",
   "execution_count": 10,
   "id": "5408832a",
   "metadata": {},
   "outputs": [
    {
     "data": {
      "text/plain": [
       "_NamespacePath(['/Users/tspisak/src/adaptivesplit'])"
      ]
     },
     "execution_count": 10,
     "metadata": {},
     "output_type": "execute_result"
    }
   ],
   "source": [
    "import adaptivesplit\n",
    "adaptivesplit.__path__\n"
   ]
  },
  {
   "cell_type": "markdown",
   "id": "f92e12d3cbebd43d",
   "metadata": {
    "collapsed": false
   },
   "source": [
    "We try to adaptively split the california housing dataset (Regression task)"
   ]
  },
  {
   "cell_type": "code",
   "execution_count": 11,
   "id": "a802aac1389a04c5",
   "metadata": {
    "ExecuteTime": {
     "end_time": "2023-10-02T12:29:32.434156799Z",
     "start_time": "2023-10-02T12:29:32.433419251Z"
    },
    "collapsed": false
   },
   "outputs": [],
   "source": [
    "##\n",
    "# Load California Housing dataset;\n",
    "##\n",
    "\n",
    "X, y = datasets.fetch_california_housing(return_X_y=True)\n",
    "X_train, X_test, y_train, y_test = train_test_split(X, y, test_size=0.33, random_state=42)"
   ]
  },
  {
   "cell_type": "markdown",
   "id": "ea981223ba486e5c",
   "metadata": {
    "collapsed": false
   },
   "source": [
    "Let's run the adaptivesplit trying to find an adaptive stopping point using the power rule,\n",
    "We can set a custom stopping rule by modifying the \"adaptivesplit/sklearn_interface/settings.conf\" file.\n",
    "(see the documentation in docs/)"
   ]
  },
  {
   "cell_type": "code",
   "execution_count": 12,
   "id": "b624c5e52506fe96",
   "metadata": {
    "ExecuteTime": {
     "end_time": "2023-10-02T12:29:55.574156169Z",
     "start_time": "2023-10-02T12:29:32.433961985Z"
    },
    "collapsed": false
   },
   "outputs": [
    {
     "ename": "ModuleNotFoundError",
     "evalue": "No module named 'adaptivesplit.sklearn_interface'",
     "output_type": "error",
     "traceback": [
      "\u001b[0;31m---------------------------------------------------------------------------\u001b[0m",
      "\u001b[0;31mModuleNotFoundError\u001b[0m                       Traceback (most recent call last)",
      "\u001b[1;32m/Users/tspisak/Dropbox/src/adaptivesplit/manuscript/03-package.ipynb Cell 6\u001b[0m line \u001b[0;36m1\n\u001b[1;32m      <a href='vscode-notebook-cell:/Users/tspisak/Dropbox/src/adaptivesplit/manuscript/03-package.ipynb#W5sZmlsZQ%3D%3D?line=4'>5</a>\u001b[0m \u001b[39mfrom\u001b[39;00m \u001b[39msklearn\u001b[39;00m\u001b[39m.\u001b[39;00m\u001b[39mlinear_model\u001b[39;00m \u001b[39mimport\u001b[39;00m RidgeCV\n\u001b[1;32m      <a href='vscode-notebook-cell:/Users/tspisak/Dropbox/src/adaptivesplit/manuscript/03-package.ipynb#W5sZmlsZQ%3D%3D?line=6'>7</a>\u001b[0m model \u001b[39m=\u001b[39m RidgeCV(scoring\u001b[39m=\u001b[39m\u001b[39m'\u001b[39m\u001b[39mneg_mean_absolute_error\u001b[39m\u001b[39m'\u001b[39m,\n\u001b[1;32m      <a href='vscode-notebook-cell:/Users/tspisak/Dropbox/src/adaptivesplit/manuscript/03-package.ipynb#W5sZmlsZQ%3D%3D?line=7'>8</a>\u001b[0m                 alphas\u001b[39m=\u001b[39m(\u001b[39m0.1\u001b[39m, \u001b[39m1\u001b[39m, \u001b[39m10\u001b[39m))  \u001b[39m# default alpha values;\u001b[39;00m\n\u001b[0;32m---> <a href='vscode-notebook-cell:/Users/tspisak/Dropbox/src/adaptivesplit/manuscript/03-package.ipynb#W5sZmlsZQ%3D%3D?line=9'>10</a>\u001b[0m \u001b[39mfrom\u001b[39;00m \u001b[39madaptivesplit\u001b[39;00m\u001b[39m.\u001b[39;00m\u001b[39msklearn_interface\u001b[39;00m\u001b[39m.\u001b[39;00m\u001b[39msplit\u001b[39;00m \u001b[39mimport\u001b[39;00m AdaptiveSplit\n\u001b[1;32m     <a href='vscode-notebook-cell:/Users/tspisak/Dropbox/src/adaptivesplit/manuscript/03-package.ipynb#W5sZmlsZQ%3D%3D?line=11'>12</a>\u001b[0m adsplit \u001b[39m=\u001b[39m AdaptiveSplit(total_sample_size\u001b[39m=\u001b[39m\u001b[39mlen\u001b[39m(y_train), plotting\u001b[39m=\u001b[39m\u001b[39mTrue\u001b[39;00m)\n\u001b[1;32m     <a href='vscode-notebook-cell:/Users/tspisak/Dropbox/src/adaptivesplit/manuscript/03-package.ipynb#W5sZmlsZQ%3D%3D?line=12'>13</a>\u001b[0m res, fig \u001b[39m=\u001b[39m adsplit(X_train, y_train, model, fast_mode\u001b[39m=\u001b[39m\u001b[39mTrue\u001b[39;00m, predict\u001b[39m=\u001b[39m\u001b[39mFalse\u001b[39;00m, random_state\u001b[39m=\u001b[39m\u001b[39m42\u001b[39m)\n",
      "\u001b[0;31mModuleNotFoundError\u001b[0m: No module named 'adaptivesplit.sklearn_interface'"
     ]
    }
   ],
   "source": [
    "##\n",
    "# Use Ridge regression;\n",
    "##\n",
    "\n",
    "from sklearn.linear_model import RidgeCV\n",
    "\n",
    "model = RidgeCV(scoring='neg_mean_absolute_error',\n",
    "                alphas=(0.1, 1, 10))  # default alpha values;\n",
    "\n",
    "from adaptivesplit.sklearn_interface.split import AdaptiveSplit\n",
    "\n",
    "adsplit = AdaptiveSplit(total_sample_size=len(y_train), plotting=True)\n",
    "res, fig = adsplit(X_train, y_train, model, fast_mode=True, predict=False, random_state=42)\n",
    "stop = res.estimated_stop\n",
    "print(res)"
   ]
  },
  {
   "cell_type": "markdown",
   "id": "ec957e5ff19d9f23",
   "metadata": {
    "collapsed": false
   },
   "source": []
  }
 ],
 "metadata": {
  "kernelspec": {
   "display_name": "Python 3",
   "language": "python",
   "name": "python3"
  },
  "language_info": {
   "codemirror_mode": {
    "name": "ipython",
    "version": 2
   },
   "file_extension": ".py",
   "mimetype": "text/x-python",
   "name": "python",
   "nbconvert_exporter": "python",
   "pygments_lexer": "ipython2",
   "version": "3.9.6"
  }
 },
 "nbformat": 4,
 "nbformat_minor": 5
}
